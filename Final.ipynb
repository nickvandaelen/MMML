{
 "cells": [
  {
   "cell_type": "markdown",
   "id": "ccc38558-342e-4911-9e1d-f3425b9626a7",
   "metadata": {},
   "source": [
    "# Putting it all TOgether\n",
    "Here i'll combine the regression (Round reached) results with the head to head classification results.\n",
    "\n",
    "The goal is to disincentivize eliminating a team early that has a chance to make a deep run. "
   ]
  },
  {
   "cell_type": "code",
   "execution_count": 2,
   "id": "1ffd1c48-2bfc-4b65-9783-a007168eff25",
   "metadata": {},
   "outputs": [],
   "source": [
    "import os\n",
    "import pandas as pd\n",
    "import numpy as np\n",
    "import sklearn\n",
    "import random"
   ]
  },
  {
   "cell_type": "code",
   "execution_count": 3,
   "id": "b514046c-fbc1-470a-be09-22ecd0c419b9",
   "metadata": {},
   "outputs": [],
   "source": [
    "os.chdir('C:\\\\Users\\\\Nick\\\\Python Projects\\\\2024 March Madness\\\\MMML')"
   ]
  },
  {
   "cell_type": "code",
   "execution_count": 6,
   "id": "17ecc949-31bb-4440-9fc8-6e050b284fb1",
   "metadata": {},
   "outputs": [],
   "source": [
    "MenH2H = pd.read_csv('Data\\\\PredsMH2HNeat.csv')\n",
    "MenH2HFull = pd.read_csv('Data\\\\PredsMH2HFull.csv')\n",
    "\n",
    "MenReg = pd.read_csv('Data\\\\PredsMRound.csv')\n",
    "\n",
    "WomenH2H = pd.read_csv('Data\\\\PredsWH2HNeat.csv')"
   ]
  },
  {
   "cell_type": "code",
   "execution_count": null,
   "id": "30de54d7-0d3a-44d1-a2e7-0dad83f48a78",
   "metadata": {},
   "outputs": [],
   "source": []
  }
 ],
 "metadata": {
  "kernelspec": {
   "display_name": "Python 3 (ipykernel)",
   "language": "python",
   "name": "python3"
  },
  "language_info": {
   "codemirror_mode": {
    "name": "ipython",
    "version": 3
   },
   "file_extension": ".py",
   "mimetype": "text/x-python",
   "name": "python",
   "nbconvert_exporter": "python",
   "pygments_lexer": "ipython3",
   "version": "3.9.7"
  }
 },
 "nbformat": 4,
 "nbformat_minor": 5
}
