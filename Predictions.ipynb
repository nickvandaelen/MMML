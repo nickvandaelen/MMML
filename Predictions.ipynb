{
 "cells": [
  {
   "cell_type": "markdown",
   "id": "e55683a7-2772-4cab-add4-8dcfda601360",
   "metadata": {},
   "source": [
    "# Making Predictions\n",
    "\n",
    "Goal is to output a table with all combinations of 2024 tournament teams with a probability of who won and also each teams expected round reached"
   ]
  },
  {
   "cell_type": "code",
   "execution_count": null,
   "id": "056cd6ea-56a2-4fff-832a-e3484cbb1085",
   "metadata": {},
   "outputs": [],
   "source": [
    "#First things first\n",
    "import os\n",
    "import pandas as pd\n",
    "import numpy as np\n",
    "import sklearn\n",
    "import random\n",
    "import time\n",
    "from sklearn.model_selection import train_test_split\n",
    "import matplotlib.pyplot as plt\n",
    "\n"
   ]
  },
  {
   "cell_type": "code",
   "execution_count": null,
   "id": "92584b7e-f50e-4591-8b72-b1ca065170d7",
   "metadata": {},
   "outputs": [],
   "source": [
    "os.chdir('C:\\\\Users\\\\Nick\\\\Python Projects\\\\2024 March Madness\\\\MMML')"
   ]
  },
  {
   "cell_type": "markdown",
   "id": "eb237fe8-1510-4961-a800-c96e9a436374",
   "metadata": {},
   "source": [
    "I hope the data has been updated by now"
   ]
  },
  {
   "cell_type": "code",
   "execution_count": null,
   "id": "1b510529-94fd-4771-b96d-82d3f8340f7b",
   "metadata": {},
   "outputs": [],
   "source": []
  }
 ],
 "metadata": {
  "kernelspec": {
   "display_name": "Python 3 (ipykernel)",
   "language": "python",
   "name": "python3"
  },
  "language_info": {
   "codemirror_mode": {
    "name": "ipython",
    "version": 3
   },
   "file_extension": ".py",
   "mimetype": "text/x-python",
   "name": "python",
   "nbconvert_exporter": "python",
   "pygments_lexer": "ipython3",
   "version": "3.9.7"
  }
 },
 "nbformat": 4,
 "nbformat_minor": 5
}
