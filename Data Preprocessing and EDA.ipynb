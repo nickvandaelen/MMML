{
 "cells": [
  {
   "cell_type": "markdown",
   "id": "795ba908-f559-460e-8d65-b4d42e0b5a12",
   "metadata": {},
   "source": [
    "# MArch MAdness Models, 2024"
   ]
  },
  {
   "cell_type": "markdown",
   "id": "f7a9b262-6a2b-4cf2-97df-60b2c04ce7d8",
   "metadata": {},
   "source": [
    "Data From Kaggle Competition Files\n",
    "\n",
    "Year two of trying this. Going to use the actual evaluation Functions intead of just beating my frined's picks"
   ]
  }
 ],
 "metadata": {
  "kernelspec": {
   "display_name": "Python 3 (ipykernel)",
   "language": "python",
   "name": "python3"
  },
  "language_info": {
   "codemirror_mode": {
    "name": "ipython",
    "version": 3
   },
   "file_extension": ".py",
   "mimetype": "text/x-python",
   "name": "python",
   "nbconvert_exporter": "python",
   "pygments_lexer": "ipython3",
   "version": "3.9.7"
  }
 },
 "nbformat": 4,
 "nbformat_minor": 5
}
